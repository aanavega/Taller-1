{
 "cells": [
  {
   "cell_type": "markdown",
   "metadata": {},
   "source": [
    "## Taller 1 - puntos impares"
   ]
  },
  {
   "cell_type": "markdown",
   "metadata": {},
   "source": [
    "### Codigo 3\n",
    "- Realice un programa que lea un número enteros y determine si es par o impar."
   ]
  },
  {
   "cell_type": "code",
   "execution_count": null,
   "metadata": {},
   "outputs": [
    {
     "name": "stdout",
     "output_type": "stream",
     "text": [
      "El numero 1 es impar\n"
     ]
    }
   ],
   "source": [
    "numero_real : int\n",
    "numero_real = int(input(\"Ingrese un numero real: \"))\n",
    "if ((numero_real) % 2) == 0 :\n",
    "    print(\"El numero \" + str(numero_real) + \" es par\")\n",
    "else:\n",
    "    print(\"El numero \" + str(numero_real) + \" es impar\")"
   ]
  },
  {
   "cell_type": "markdown",
   "metadata": {},
   "source": [
    "### Codigo 5\n",
    "- Realice un programa que lea tres números reales y determine si la suma de los dos primeros es mayor, menor o igual que el tercer número."
   ]
  },
  {
   "cell_type": "code",
   "execution_count": 2,
   "metadata": {},
   "outputs": [
    {
     "name": "stdout",
     "output_type": "stream",
     "text": [
      "La suma de los dos primeros numeros es mayor que 60.0\n"
     ]
    }
   ],
   "source": [
    "primer_real: float \n",
    "primer_real = float(input(\"Ingrese un primer numero real: \"))\n",
    "segundo_real: float \n",
    "segundo_real = float(input(\"Ingrese un segundo numero real: \"))\n",
    "tercer_real: float\n",
    "tercer_real = float(input(\"Ingrese un tercer numero real: \"))\n",
    "if (primer_real+segundo_real) > tercer_real:\n",
    "    print(\"La suma de los dos primeros numeros es mayor que \" + str(tercer_real))\n",
    "elif (primer_real+segundo_real) < tercer_real:\n",
    "        print(\"La suma de los dos primeros numeros es menor que \" + str(tercer_real))\n",
    "elif (primer_real+segundo_real) == tercer_real:\n",
    "      print(\"La suma de los dos primeros numeros es igual a \" + str(tercer_real))"
   ]
  },
  {
   "cell_type": "markdown",
   "metadata": {},
   "source": [
    "### Codigo 7\n",
    "- Escriba un programa que pida 5 números reales y calcule las siguientes operaciones:\n",
    "  - El promedio\n",
    "  - La mediana\n",
    "  - El promedio multiplicativo (multilplica todos y luego calcula la raíz de la cantidad de operandos)\n",
    "  - Ordenar los números de forma ascendente\n",
    "  - Ordenar los números de forma descendente\n",
    "  - La potencia del mayor número elevado al menor número\n",
    "  - La raíz cúbica del menor número\n"
   ]
  },
  {
   "cell_type": "code",
   "execution_count": null,
   "metadata": {},
   "outputs": [],
   "source": [
    "Primer_numero: int\n",
    "Segundo_numero : int\n",
    "Tercer_numero : int\n",
    "Cuarto_numero: int\n",
    "Quinto_numero : int\n",
    "mayor_numero:int\n",
    "menor_numero:int\n",
    "potencia:int\n",
    "raiz:int\n",
    "Primer_numero= int(input(\"Ingrese su primer numero real: \"))\n",
    "Segundo_numero= int(input(\"Ingrese su segundo numero real: \"))\n",
    "Tercer_numero= int(input(\"Ingrese su Tercer numero real: \"))\n",
    "Cuarto_numero= int(input(\"Ingrese su Cuarto numero real: \"))\n",
    "Quinto_numero= int(input(\"Ingrese su Quinto numero real: \"))\n",
    "\n",
    "# Sacar promedio\n",
    "Promedio= ((Primer_numero+Segundo_numero+Tercer_numero+Cuarto_numero+Quinto_numero)/5)\n",
    "print(\"El promedio de los numeros ingresados es: \" + str(Promedio))\n",
    "\n",
    "# Sacar promedio multiplicativo\n",
    "Promedio_Multiplicativo= ((Primer_numero*Segundo_numero*Tercer_numero*Cuarto_numero*Quinto_numero)**(1/5))\n",
    "print(\"El promedio multiplicativo de los numeros ingresados es: \" + str(Promedio_Multiplicativo))\n",
    "\n",
    "# Ordenar de manera ascedente y descendente cumpliendo el caso donde 1 > resto de numeros 'No hubo tiempo :('\n",
    "if Primer_numero > Segundo_numero and Segundo_numero > Tercer_numero and Tercer_numero > Cuarto_numero and Cuarto_numero > Quinto_numero: #1>2>3>4>5\n",
    "    print(\"Los numeros ordenados de forma descendente van: \" +str(Primer_numero)+ \",\"+ str(Segundo_numero)+ \",\"+ str(Tercer_numero)+ \",\"+ str( Cuarto_numero)+ \",\"+ str(Quinto_numero)+ \".\")\n",
    "    print(\"Los numeros ordenados de forma ascendente van: \"+ str(Quinto_numero)+ \",\"+ str(Cuarto_numero)+ \",\"+ str(Tercer_numero)+ \",\"+ str(Segundo_numero)+ \",\"+ str(Primer_numero)+\".\")\n",
    "elif Primer_numero > Segundo_numero and Segundo_numero > Tercer_numero and  Tercer_numero > Quinto_numero and Quinto_numero > Cuarto_numero:#1>2>3>5>4\n",
    "    print(\"Los numeros ordenados de forma descendente van: \" +str(Primer_numero)+ \",\"+ str(Segundo_numero)+ \",\"+ str(Tercer_numero)+ \",\"+ str(Quinto_numero)+ \",\"+ str(Cuarto_numero)+ \".\")\n",
    "    print(\"Los numeros ordenados de forma ascendente van: \"+ str(Cuarto_numero)+ \",\"+ str(Quinto_numero)+ \",\"+ str(Tercer_numero)+ \",\"+ str(Segundo_numero)+ \",\"+ str(Primer_numero)+\".\") \n",
    "elif Primer_numero > Segundo_numero and Segundo_numero > Cuarto_numero and Cuarto_numero > Quinto_numero and Quinto_numero > Tercer_numero:#1>2>4>5>3\n",
    "    print(\"Los numeros ordenados de forma ascendente van: \" +str(Tercer_numero)+ \",\"+ str(Quinto_numero)+ \",\"+ str(Cuarto_numero)+ \",\"+ str(Segundo_numero)+ \",\"+ str(Primer_numero)+ \".\")\n",
    "    print(\"Los numeros ordenados de forma descendente van: \" + str(Primer_numero)+ \",\"+ str(Segundo_numero)+ \",\"+ str(Cuarto_numero)+ \",\"+ str(Quinto_numero)+ \",\"+ str(Tercer_numero)+ \".\")\n",
    "elif Primer_numero > Segundo_numero and Segundo_numero >  Cuarto_numero and Cuarto_numero > Tercer_numero and Tercer_numero > Quinto_numero:#1>2>4>3>5\n",
    "    print(\"Los numeros ordenados de forma ascendente van: \" +str(Quinto_numero)+ \",\"+ str(Tercer_numero)+ \",\"+ str(Cuarto_numero)+ \",\"+ str(Segundo_numero)+ \",\"+ str(Primer_numero)+ \".\")\n",
    "    print(\"Los numeros ordenados de forma descendente van: \" + str(Primer_numero)+ \",\"+ str(Segundo_numero)+ \",\"+ str(Cuarto_numero)+ \",\"+ str(Tercer_numero)+ \",\"+ str(Quinto_numero)+ \".\")\n",
    "elif Primer_numero > Segundo_numero and Segundo_numero > Quinto_numero and Quinto_numero > Tercer_numero and Tercer_numero > Cuarto_numero:#1>2>5>3>4\n",
    "    print(\"Los numeros ordenados de forma ascendente van: \" +str(Cuarto_numero)+ \",\"+ str(Tercer_numero)+ \",\"+ str(Quinto_numero)+ \",\"+ str(Segundo_numero)+ \",\"+ str(Primer_numero)+ \".\")\n",
    "    print(\"Los numeros ordenados de forma descendente van: \" + str(Primer_numero)+ \",\"+ str(Segundo_numero)+ \",\"+ str(Quinto_numero)+ \",\"+ str(Tercer_numero)+ \",\"+ str(Cuarto_numero)+ \".\")\n",
    "elif Primer_numero > Segundo_numero and Segundo_numero > Quinto_numero and Quinto_numero > Cuarto_numero and Cuarto_numero > Tercer_numero:#1>2>5>4>5\n",
    "    print(\"Los numeros ordenados de forma ascendente van: \" +str(Cuarto_numero)+ \",\"+ str(Tercer_numero)+ \",\"+ str(Quinto_numero)+ \",\"+ str(Segundo_numero)+ \",\"+ str(Primer_numero)+ \".\")\n",
    "    print(\"Los numeros ordenados de forma descendente van: \" + str(Primer_numero)+ \",\"+ str(Segundo_numero)+ \",\"+ str(Quinto_numero)+ \",\"+ str(Cuarto_numero)+ \",\"+ str(Quinto_numero)+ \".\")\n",
    "elif Primer_numero > Tercer_numero and Tercer_numero > Segundo_numero and Segundo_numero > Cuarto_numero and Cuarto_numero > Quinto_numero:#1>3>2>4>5:\n",
    "    print(\"Los numeros ordenados de forma ascendente van: \" +str(Quinto_numero)+ \",\"+ str(Cuarto_numero)+ \",\"+ str(Segundo_numero)+ \",\"+ str(Tercer_numero)+ \",\"+ str(Primer_numero)+ \".\")\n",
    "    print(\"Los numeros ordenados de forma descendente van: \" + str(Primer_numero)+ \",\"+ str(Tercer_numero)+ \",\"+ str(Segundo_numero)+ \",\"+ str(Cuarto_numero)+ \",\"+ str(Quinto_numero)+ \".\") \n",
    "elif Primer_numero > Tercer_numero and Tercer_numero > Segundo_numero and Segundo_numero > Quinto_numero and Quinto_numero > Cuarto_numero:#1>3>2>5>4\n",
    "    print(\"Los numeros ordenados de forma ascendente van: \" +str(Cuarto_numero)+ \",\"+ str(Quinto_numero)+ \",\"+ str(Segundo_numero)+ \",\"+ str(Tercer_numero)+ \",\"+ str(Primer_numero)+ \".\")\n",
    "    print(\"Los numeros ordenados de forma descendente van: \" + str(Primer_numero)+ \",\"+ str(Tercer_numero)+ \",\"+ str(Segundo_numero)+ \",\"+ str(Quinto_numero)+ \",\"+ str(Cuarto_numero)+ \".\")\n",
    "elif Primer_numero > Tercer_numero and Tercer_numero > Cuarto_numero and Cuarto_numero > Segundo_numero and Segundo_numero > Quinto_numero: #1>3>4>2>5\n",
    "    print(\"Los numeros ordenados de forma ascendente van: \" +str(Quinto_numero)+ \",\"+ str(Segundo_numero)+ \",\"+ str(Cuarto_numero)+ \",\"+ str(Tercer_numero)+ \",\"+ str(Primer_numero)+ \".\")\n",
    "    print(\"Los numeros ordenados de forma descendente van: \" + str(Primer_numero)+ \",\"+ str(Tercer_numero)+ \",\"+ str(Cuarto_numero)+ \",\"+ str(Segundo_numero)+ \",\"+ str(Quinto_numero)+ \".\")\n",
    "elif Primer_numero > Tercer_numero and Tercer_numero > Cuarto_numero and Cuarto_numero >Quinto_numero and Quinto_numero > Segundo_numero: #1>3>4>5>2\n",
    "    print(\"Los numeros ordenados de forma ascendente van: \" +str(Segundo_numero)+ \",\"+ str(Quinto_numero)+ \",\"+ str(Cuarto_numero)+ \",\"+ str(Tercer_numero)+ \",\"+ str(Primer_numero)+ \".\")\n",
    "    print(\"Los numeros ordenados de forma descendente van: \" + str(Primer_numero)+ \",\"+ str(Tercer_numero)+ \",\"+ str(Cuarto_numero)+ \",\"+ str(Quinto_numero)+ \",\"+ str(Segundo_numero)+ \".\")\n",
    "elif Primer_numero > Tercer_numero  and Tercer_numero > Quinto_numero and Quinto_numero > Cuarto_numero and Cuarto_numero > Segundo_numero: #1>3>5>4>2\n",
    "    print(\"Los numeros ordenados de forma ascendente van: \" +str(Segundo_numero)+ \",\"+ str(Cuarto_numero)+ \",\"+ str(Quinto_numero)+ \",\"+ str(Tercer_numero)+ \",\"+ str(Primer_numero)+ \".\")\n",
    "    print(\"Los numeros ordenados de forma descendente van: \" + str(Primer_numero)+ \",\"+ str(Tercer_numero)+ \",\"+ str(Quinto_numero)+ \",\"+ str(Cuarto_numero)+ \",\"+ str(Segundo_numero)+ \".\")\n",
    "elif Primer_numero > Tercer_numero and Tercer_numero > Quinto_numero and Quinto_numero > Segundo_numero and Segundo_numero > Cuarto_numero: # 1>3>5>2>4\n",
    "    print(\"Los numeros ordenados de forma ascendente van: \" +str(Cuarto_numero)+ \",\"+ str(Segundo_numero)+ \",\"+ str(Quinto_numero)+ \",\"+ str(Tercer_numero)+ \",\"+ str(Primer_numero)+ \".\")\n",
    "    print(\"Los numeros ordenados de forma descendente van: \" + str(Primer_numero)+ \",\"+ str(Tercer_numero)+ \",\"+ str(Segundo_numero)+ \",\"+ str(Segundo_numero)+ \",\"+ str(Cuarto_numero)+ \".\")\n",
    "elif Primer_numero > Cuarto_numero and Cuarto_numero > Tercer_numero and Tercer_numero > Segundo_numero and Segundo_numero > Quinto_numero: #1>4>3>2>5\n",
    "    print(\"Los numeros ordenados de forma ascendente van: \" +str(Quinto_numero)+ \",\"+ str(Segundo_numero)+ \",\"+ str(Tercer_numero)+ \",\"+ str(Cuarto_numero)+ \",\"+ str(Primer_numero)+ \".\")\n",
    "    print(\"Los numeros ordenados de forma descendente van: \" + str(Primer_numero)+ \",\"+ str(Cuarto_numero)+ \",\"+ str(Tercer_numero)+ \",\"+ str(Segundo_numero)+ \",\"+ str(Quinto_numero)+ \".\")\n",
    "elif Primer_numero > Cuarto_numero and Cuarto_numero > Tercer_numero and Tercer_numero > Quinto_numero  and Quinto_numero  >  Segundo_numero:\n",
    "    print(\"Los numeros ordenados de forma ascendente van: \" +str(Segundo_numero)+ \",\"+ str(Quinto_numero)+ \",\"+ str(Tercer_numero)+ \",\"+ str(Cuarto_numero)+ \",\"+ str(Primer_numero)+ \".\")\n",
    "    print(\"Los numeros ordenados de forma descendente van: \" + str(Primer_numero)+ \",\"+ str(Cuarto_numero)+ \",\"+ str(Tercer_numero)+ \",\"+ str(Quinto_numero)+ \",\"+ str(Segundo_numero)+ \".\")\n",
    "elif Primer_numero > Cuarto_numero and Cuarto_numero > Segundo_numero and Segundo_numero > Tercer_numero and Tercer_numero > Quinto_numero:\n",
    "    print(\"Los numeros ordenados de forma ascendente van: \" +str(Quinto_numero)+ \",\"+ str(Tercer_numero)+ \",\"+ str(Segundo_numero)+ \",\"+ str(Cuarto_numero)+ \",\"+ str(Primer_numero)+ \".\")\n",
    "    print(\"Los numeros ordenados de forma descendente van: \" + str(Primer_numero)+ \",\"+ str(Cuarto_numero)+ \",\"+ str(Segundo_numero)+ \",\"+ str(Tercer_numero)+ \",\"+ str(Quinto_numero)+ \".\")\n",
    "elif Primer_numero > Cuarto_numero and Cuarto_numero > Segundo_numero and Segundo_numero > Quinto_numero and Quinto_numero > Tercer_numero:\n",
    "    print(\"Los numeros ordenados de forma ascendente van: \" +str(Tercer_numero)+ \",\"+ str(Quinto_numero)+ \",\"+ str(Segundo_numero)+ \",\"+ str(Cuarto_numero)+ \",\"+ str(Primer_numero)+ \".\")\n",
    "    print(\"Los numeros ordenados de forma descendente van: \" + str(Primer_numero)+ \",\"+ str(Cuarto_numero)+ \",\"+ str(Segundo_numero)+ \",\"+ str(Quinto_numero)+ \",\"+ str(Tercer_numero)+ \".\")\n",
    "\n",
    "# Determinar cual de los cinco numeros es el mayor\n",
    "if Primer_numero>Segundo_numero and Primer_numero>Tercer_numero and Primer_numero>Cuarto_numero and Primer_numero>Quinto_numero:\n",
    "    mayor_numero= Primer_numero\n",
    "elif Segundo_numero>Primer_numero and Segundo_numero>Tercer_numero and Segundo_numero>Cuarto_numero and Segundo_numero>Quinto_numero:\n",
    "    mayor_numero= Segundo_numero\n",
    "elif Tercer_numero>Primer_numero and Tercer_numero>Segundo_numero and Tercer_numero>Cuarto_numero and Tercer_numero>Quinto_numero:\n",
    "    mayor_numero= Tercer_numero\n",
    "elif Cuarto_numero>Primer_numero and Cuarto_numero>Segundo_numero and Cuarto_numero>Cuarto_numero and Cuarto_numero>Quinto_numero:\n",
    "    mayor_numero= Cuarto_numero\n",
    "elif Quinto_numero>Primer_numero and Quinto_numero>Segundo_numero and Quinto_numero>Cuarto_numero and Quinto_numero>Quinto_numero:\n",
    "        mayor_numero= Quinto_numero\n",
    "\n",
    "# Determinar cual de los cinco numeros es el menor\n",
    "if Primer_numero<Segundo_numero and Primer_numero<Tercer_numero and Primer_numero<Cuarto_numero and Primer_numero<Quinto_numero:\n",
    "    menor_numero= Primer_numero\n",
    "elif Segundo_numero<Primer_numero and Segundo_numero<Tercer_numero and Segundo_numero<Cuarto_numero and Segundo_numero<Quinto_numero:\n",
    "    menor_numero= Segundo_numero\n",
    "elif Tercer_numero<Primer_numero and Tercer_numero<Segundo_numero and Tercer_numero<Cuarto_numero and Tercer_numero<Quinto_numero:\n",
    "    menor_numero= Tercer_numero\n",
    "elif Cuarto_numero<Primer_numero and Cuarto_numero<Segundo_numero and Cuarto_numero<Tercer_numero and Cuarto_numero<Quinto_numero:\n",
    "    menor_numero= Cuarto_numero\n",
    "elif Quinto_numero<Primer_numero and Quinto_numero<Segundo_numero and Quinto_numero<Tercer_numero and Quinto_numero<Cuarto_numero:\n",
    "    menor_numero= Quinto_numero\n",
    "\n",
    "# Sacar la potencia del mayor numero elevado al menor numero\n",
    "potencia = (mayor_numero**(menor_numero))\n",
    "print(\" La potencia del mayor numero elevado a el menor numero es: \" + str(potencia))\n",
    "\n",
    "# Sacar la raiz cubica del menor numero\n",
    "raiz = (menor_numero**(1/3))                \n",
    "print(\" La raiz cubica del menor numero es: \" + str(raiz))"
   ]
  },
  {
   "cell_type": "markdown",
   "metadata": {},
   "source": [
    "### Codigo 9\n",
    "- Escriba un programa que reciba el nombre en minúsculas de un país de America y retorne la ciudad capital, si el país no pertenece al continente debe arrojar país no identificado"
   ]
  },
  {
   "cell_type": "code",
   "execution_count": 4,
   "metadata": {},
   "outputs": [
    {
     "name": "stdout",
     "output_type": "stream",
     "text": [
      "ciudad de mexico\n"
     ]
    }
   ],
   "source": [
    "paises = [\"canada\" , \"estados unidos\", \"brasil\" , \"mexico\", \"argentina\", \"ecuador\" , \"venezuela\", \"colombia\", \"republica dominicana\", \"costa rica\", \"cuba\", \"puerto rico\", \"peru\" , \"chile\" , \"panama\", \"uruguay\", \"paraguay\", \"bolivia\" , \"panama\", \"guatemala\" , \"nicaragua\"]\n",
    "nombre_pais = input(\"Ingrese el nombre de un pais de America en  minusculas: \")\n",
    "\n",
    "if nombre_pais in paises:\n",
    "    if nombre_pais == \"mexico\":\n",
    "        print(\"ciudad de mexico\")\n",
    "    elif nombre_pais == \"canada\":\n",
    "        print(\"ottawa\")\n",
    "    elif nombre_pais == \"estados unidos\":\n",
    "        print(\"washignton\")\n",
    "    elif nombre_pais == \"brasil\":\n",
    "        print(\"brasilia\")\n",
    "    elif nombre_pais == \"argentina\":\n",
    "        print(\"buenos aires\")\n",
    "    elif nombre_pais == \"ecuador\":\n",
    "        print(\"quito\")\n",
    "    elif nombre_pais == \"venezuela\":\n",
    "        print(\"caracas\")\n",
    "    elif nombre_pais ==  \"colombia\":\n",
    "        print(\"bogota\")\n",
    "    elif nombre_pais == \"republica dominicana\":\n",
    "        print(\"santo domingo\")\n",
    "    elif nombre_pais == \"costa rica\":\n",
    "        print(\"san jose\")\n",
    "    elif nombre_pais == \"cuba\":\n",
    "        print(\"la habana\")\n",
    "    elif nombre_pais == \"peru\":\n",
    "        print(\"lima\")\n",
    "    elif nombre_pais == \"paraguay\":\n",
    "        print(\"asuncion\")\n",
    "    elif nombre_pais == \"chile\":\n",
    "        print(\"santiago\")\n",
    "    elif nombre_pais == \"uruguay\":\n",
    "        print(\"montevideo\")\n",
    "    elif nombre_pais == \"bolivia\":\n",
    "        print(\"la paz\")\n",
    "    elif nombre_pais == \"panama\":\n",
    "        print(\"panama\")\n",
    "    elif nombre_pais == \"guatemala\":\n",
    "        print(\"guatemala\")\n",
    "    elif nombre_pais == \"nicaragua\":\n",
    "        print(\"managua\")\n",
    "    elif nombre_pais == \"el salvador\":\n",
    "        print(\"el salvador\")\n",
    "\n",
    "else:\n",
    "    print(\"El pais no pertenece a America\")"
   ]
  }
 ],
 "metadata": {
  "kernelspec": {
   "display_name": "Python 3",
   "language": "python",
   "name": "python3"
  },
  "language_info": {
   "codemirror_mode": {
    "name": "ipython",
    "version": 3
   },
   "file_extension": ".py",
   "mimetype": "text/x-python",
   "name": "python",
   "nbconvert_exporter": "python",
   "pygments_lexer": "ipython3",
   "version": "3.12.2"
  }
 },
 "nbformat": 4,
 "nbformat_minor": 2
}
